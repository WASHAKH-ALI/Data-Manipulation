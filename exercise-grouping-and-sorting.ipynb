{
 "cells": [
  {
   "cell_type": "markdown",
   "id": "3fb7d802",
   "metadata": {
    "papermill": {
     "duration": 0.006917,
     "end_time": "2022-09-23T13:27:48.593636",
     "exception": false,
     "start_time": "2022-09-23T13:27:48.586719",
     "status": "completed"
    },
    "tags": []
   },
   "source": [
    "**This notebook is an exercise in the [Pandas](https://www.kaggle.com/learn/pandas) course.  You can reference the tutorial at [this link](https://www.kaggle.com/residentmario/grouping-and-sorting).**\n",
    "\n",
    "---\n"
   ]
  },
  {
   "cell_type": "markdown",
   "id": "b4537bc4",
   "metadata": {
    "papermill": {
     "duration": 0.005473,
     "end_time": "2022-09-23T13:27:48.604930",
     "exception": false,
     "start_time": "2022-09-23T13:27:48.599457",
     "status": "completed"
    },
    "tags": []
   },
   "source": [
    "# Introduction\n",
    "\n",
    "In these exercises we'll apply groupwise analysis to our dataset.\n",
    "\n",
    "Run the code cell below to load the data before running the exercises."
   ]
  },
  {
   "cell_type": "code",
   "execution_count": 1,
   "id": "dca50515",
   "metadata": {
    "execution": {
     "iopub.execute_input": "2022-09-23T13:27:48.619253Z",
     "iopub.status.busy": "2022-09-23T13:27:48.618250Z",
     "iopub.status.idle": "2022-09-23T13:27:51.654359Z",
     "shell.execute_reply": "2022-09-23T13:27:51.652876Z"
    },
    "papermill": {
     "duration": 3.046365,
     "end_time": "2022-09-23T13:27:51.657029",
     "exception": false,
     "start_time": "2022-09-23T13:27:48.610664",
     "status": "completed"
    },
    "tags": []
   },
   "outputs": [
    {
     "name": "stdout",
     "output_type": "stream",
     "text": [
      "Setup complete.\n"
     ]
    }
   ],
   "source": [
    "import pandas as pd\n",
    "\n",
    "reviews = pd.read_csv(\"../input/wine-reviews/winemag-data-130k-v2.csv\", index_col=0)\n",
    "#pd.set_option(\"display.max_rows\", 5)\n",
    "\n",
    "from learntools.core import binder; binder.bind(globals())\n",
    "from learntools.pandas.grouping_and_sorting import *\n",
    "print(\"Setup complete.\")"
   ]
  },
  {
   "cell_type": "markdown",
   "id": "2d63051c",
   "metadata": {
    "papermill": {
     "duration": 0.005594,
     "end_time": "2022-09-23T13:27:51.668955",
     "exception": false,
     "start_time": "2022-09-23T13:27:51.663361",
     "status": "completed"
    },
    "tags": []
   },
   "source": [
    "# Exercises"
   ]
  },
  {
   "cell_type": "markdown",
   "id": "790575ec",
   "metadata": {
    "papermill": {
     "duration": 0.005487,
     "end_time": "2022-09-23T13:27:51.680295",
     "exception": false,
     "start_time": "2022-09-23T13:27:51.674808",
     "status": "completed"
    },
    "tags": []
   },
   "source": [
    "## 1.\n",
    "Who are the most common wine reviewers in the dataset? Create a `Series` whose index is the `taster_twitter_handle` category from the dataset, and whose values count how many reviews each person wrote."
   ]
  },
  {
   "cell_type": "code",
   "execution_count": 2,
   "id": "6d90dda8",
   "metadata": {
    "execution": {
     "iopub.execute_input": "2022-09-23T13:27:51.693709Z",
     "iopub.status.busy": "2022-09-23T13:27:51.692994Z",
     "iopub.status.idle": "2022-09-23T13:27:51.718224Z",
     "shell.execute_reply": "2022-09-23T13:27:51.716926Z"
    },
    "papermill": {
     "duration": 0.035259,
     "end_time": "2022-09-23T13:27:51.721297",
     "exception": false,
     "start_time": "2022-09-23T13:27:51.686038",
     "status": "completed"
    },
    "tags": []
   },
   "outputs": [
    {
     "data": {
      "application/javascript": [
       "parent.postMessage({\"jupyterEvent\": \"custom.exercise_interaction\", \"data\": {\"outcomeType\": 1, \"valueTowardsCompletion\": 0.16666666666666666, \"interactionType\": 1, \"questionType\": 1, \"questionId\": \"1_ReviewsWritten\", \"learnToolsVersion\": \"0.3.4\", \"failureMessage\": \"\", \"exceptionClass\": \"\", \"trace\": \"\"}}, \"*\")"
      ],
      "text/plain": [
       "<IPython.core.display.Javascript object>"
      ]
     },
     "metadata": {},
     "output_type": "display_data"
    },
    {
     "data": {
      "text/markdown": [
       "<span style=\"color:#33cc33\">Correct:</span> \n",
       "\n",
       "\n",
       "```python\n",
       "reviews_written = reviews.groupby('taster_twitter_handle').size()\n",
       "```\n",
       "or\n",
       "```python\n",
       "reviews_written = reviews.groupby('taster_twitter_handle').taster_twitter_handle.count()\n",
       "```\n"
      ],
      "text/plain": [
       "Correct: \n",
       "\n",
       "\n",
       "```python\n",
       "reviews_written = reviews.groupby('taster_twitter_handle').size()\n",
       "```\n",
       "or\n",
       "```python\n",
       "reviews_written = reviews.groupby('taster_twitter_handle').taster_twitter_handle.count()\n",
       "```"
      ]
     },
     "metadata": {},
     "output_type": "display_data"
    }
   ],
   "source": [
    "# Your code here\n",
    "reviews_written = reviews.groupby('taster_twitter_handle').size()\n",
    "\n",
    "# Check your answer\n",
    "q1.check()"
   ]
  },
  {
   "cell_type": "code",
   "execution_count": 3,
   "id": "dfc3cf1e",
   "metadata": {
    "execution": {
     "iopub.execute_input": "2022-09-23T13:27:51.736328Z",
     "iopub.status.busy": "2022-09-23T13:27:51.735926Z",
     "iopub.status.idle": "2022-09-23T13:27:51.744525Z",
     "shell.execute_reply": "2022-09-23T13:27:51.743180Z"
    },
    "papermill": {
     "duration": 0.018912,
     "end_time": "2022-09-23T13:27:51.746900",
     "exception": false,
     "start_time": "2022-09-23T13:27:51.727988",
     "status": "completed"
    },
    "tags": []
   },
   "outputs": [
    {
     "data": {
      "application/javascript": [
       "parent.postMessage({\"jupyterEvent\": \"custom.exercise_interaction\", \"data\": {\"interactionType\": 3, \"questionType\": 1, \"questionId\": \"1_ReviewsWritten\", \"learnToolsVersion\": \"0.3.4\", \"valueTowardsCompletion\": 0.0, \"failureMessage\": \"\", \"exceptionClass\": \"\", \"trace\": \"\", \"outcomeType\": 4}}, \"*\")"
      ],
      "text/plain": [
       "<IPython.core.display.Javascript object>"
      ]
     },
     "metadata": {},
     "output_type": "display_data"
    },
    {
     "data": {
      "text/markdown": [
       "<span style=\"color:#33cc99\">Solution:</span> \n",
       "```python\n",
       "reviews_written = reviews.groupby('taster_twitter_handle').size()\n",
       "```\n",
       "or\n",
       "```python\n",
       "reviews_written = reviews.groupby('taster_twitter_handle').taster_twitter_handle.count()\n",
       "```\n"
      ],
      "text/plain": [
       "Solution: \n",
       "```python\n",
       "reviews_written = reviews.groupby('taster_twitter_handle').size()\n",
       "```\n",
       "or\n",
       "```python\n",
       "reviews_written = reviews.groupby('taster_twitter_handle').taster_twitter_handle.count()\n",
       "```"
      ]
     },
     "metadata": {},
     "output_type": "display_data"
    }
   ],
   "source": [
    "#q1.hint()\n",
    "q1.solution()"
   ]
  },
  {
   "cell_type": "markdown",
   "id": "dcb64894",
   "metadata": {
    "papermill": {
     "duration": 0.007046,
     "end_time": "2022-09-23T13:27:51.761182",
     "exception": false,
     "start_time": "2022-09-23T13:27:51.754136",
     "status": "completed"
    },
    "tags": []
   },
   "source": [
    "## 2.\n",
    "What is the best wine I can buy for a given amount of money? Create a `Series` whose index is wine prices and whose values is the maximum number of points a wine costing that much was given in a review. Sort the values by price, ascending (so that `4.0` dollars is at the top and `3300.0` dollars is at the bottom)."
   ]
  },
  {
   "cell_type": "code",
   "execution_count": 4,
   "id": "4eea36bf",
   "metadata": {
    "execution": {
     "iopub.execute_input": "2022-09-23T13:27:51.777003Z",
     "iopub.status.busy": "2022-09-23T13:27:51.775786Z",
     "iopub.status.idle": "2022-09-23T13:27:51.790860Z",
     "shell.execute_reply": "2022-09-23T13:27:51.789572Z"
    },
    "papermill": {
     "duration": 0.025598,
     "end_time": "2022-09-23T13:27:51.793346",
     "exception": false,
     "start_time": "2022-09-23T13:27:51.767748",
     "status": "completed"
    },
    "tags": []
   },
   "outputs": [
    {
     "data": {
      "application/javascript": [
       "parent.postMessage({\"jupyterEvent\": \"custom.exercise_interaction\", \"data\": {\"outcomeType\": 1, \"valueTowardsCompletion\": 0.16666666666666666, \"interactionType\": 1, \"questionType\": 1, \"questionId\": \"2_BestRatingPerPrice\", \"learnToolsVersion\": \"0.3.4\", \"failureMessage\": \"\", \"exceptionClass\": \"\", \"trace\": \"\"}}, \"*\")"
      ],
      "text/plain": [
       "<IPython.core.display.Javascript object>"
      ]
     },
     "metadata": {},
     "output_type": "display_data"
    },
    {
     "data": {
      "text/markdown": [
       "<span style=\"color:#33cc33\">Correct</span>"
      ],
      "text/plain": [
       "Correct"
      ]
     },
     "metadata": {},
     "output_type": "display_data"
    }
   ],
   "source": [
    "best_rating_per_price = reviews.groupby('price')['points'].max().sort_index()\n",
    "\n",
    "# Check your answer\n",
    "q2.check()"
   ]
  },
  {
   "cell_type": "code",
   "execution_count": 5,
   "id": "fbe9b603",
   "metadata": {
    "execution": {
     "iopub.execute_input": "2022-09-23T13:27:51.809217Z",
     "iopub.status.busy": "2022-09-23T13:27:51.808803Z",
     "iopub.status.idle": "2022-09-23T13:27:51.816648Z",
     "shell.execute_reply": "2022-09-23T13:27:51.815656Z"
    },
    "papermill": {
     "duration": 0.018591,
     "end_time": "2022-09-23T13:27:51.819292",
     "exception": false,
     "start_time": "2022-09-23T13:27:51.800701",
     "status": "completed"
    },
    "tags": []
   },
   "outputs": [
    {
     "data": {
      "application/javascript": [
       "parent.postMessage({\"jupyterEvent\": \"custom.exercise_interaction\", \"data\": {\"interactionType\": 3, \"questionType\": 1, \"questionId\": \"2_BestRatingPerPrice\", \"learnToolsVersion\": \"0.3.4\", \"valueTowardsCompletion\": 0.0, \"failureMessage\": \"\", \"exceptionClass\": \"\", \"trace\": \"\", \"outcomeType\": 4}}, \"*\")"
      ],
      "text/plain": [
       "<IPython.core.display.Javascript object>"
      ]
     },
     "metadata": {},
     "output_type": "display_data"
    },
    {
     "data": {
      "text/markdown": [
       "<span style=\"color:#33cc99\">Solution:</span> \n",
       "```python\n",
       "best_rating_per_price = reviews.groupby('price')['points'].max().sort_index()\n",
       "```"
      ],
      "text/plain": [
       "Solution: \n",
       "```python\n",
       "best_rating_per_price = reviews.groupby('price')['points'].max().sort_index()\n",
       "```"
      ]
     },
     "metadata": {},
     "output_type": "display_data"
    }
   ],
   "source": [
    "#q2.hint()\n",
    "q2.solution()"
   ]
  },
  {
   "cell_type": "markdown",
   "id": "3c65be11",
   "metadata": {
    "papermill": {
     "duration": 0.008329,
     "end_time": "2022-09-23T13:27:51.835348",
     "exception": false,
     "start_time": "2022-09-23T13:27:51.827019",
     "status": "completed"
    },
    "tags": []
   },
   "source": [
    "## 3.\n",
    "What are the minimum and maximum prices for each `variety` of wine? Create a `DataFrame` whose index is the `variety` category from the dataset and whose values are the `min` and `max` values thereof."
   ]
  },
  {
   "cell_type": "code",
   "execution_count": 6,
   "id": "4af00c0e",
   "metadata": {
    "execution": {
     "iopub.execute_input": "2022-09-23T13:27:51.852075Z",
     "iopub.status.busy": "2022-09-23T13:27:51.851540Z",
     "iopub.status.idle": "2022-09-23T13:27:51.876556Z",
     "shell.execute_reply": "2022-09-23T13:27:51.875712Z"
    },
    "papermill": {
     "duration": 0.036138,
     "end_time": "2022-09-23T13:27:51.878856",
     "exception": false,
     "start_time": "2022-09-23T13:27:51.842718",
     "status": "completed"
    },
    "tags": []
   },
   "outputs": [
    {
     "data": {
      "application/javascript": [
       "parent.postMessage({\"jupyterEvent\": \"custom.exercise_interaction\", \"data\": {\"outcomeType\": 1, \"valueTowardsCompletion\": 0.16666666666666666, \"interactionType\": 1, \"questionType\": 1, \"questionId\": \"3_PriceExtremes\", \"learnToolsVersion\": \"0.3.4\", \"failureMessage\": \"\", \"exceptionClass\": \"\", \"trace\": \"\"}}, \"*\")"
      ],
      "text/plain": [
       "<IPython.core.display.Javascript object>"
      ]
     },
     "metadata": {},
     "output_type": "display_data"
    },
    {
     "data": {
      "text/markdown": [
       "<span style=\"color:#33cc33\">Correct</span>"
      ],
      "text/plain": [
       "Correct"
      ]
     },
     "metadata": {},
     "output_type": "display_data"
    }
   ],
   "source": [
    "price_extremes = reviews.groupby('variety').price.agg([min, max])\n",
    "\n",
    "# Check your answer\n",
    "q3.check()"
   ]
  },
  {
   "cell_type": "code",
   "execution_count": 7,
   "id": "de5df258",
   "metadata": {
    "execution": {
     "iopub.execute_input": "2022-09-23T13:27:51.895196Z",
     "iopub.status.busy": "2022-09-23T13:27:51.894722Z",
     "iopub.status.idle": "2022-09-23T13:27:51.903386Z",
     "shell.execute_reply": "2022-09-23T13:27:51.902252Z"
    },
    "papermill": {
     "duration": 0.019772,
     "end_time": "2022-09-23T13:27:51.905898",
     "exception": false,
     "start_time": "2022-09-23T13:27:51.886126",
     "status": "completed"
    },
    "tags": []
   },
   "outputs": [
    {
     "data": {
      "application/javascript": [
       "parent.postMessage({\"jupyterEvent\": \"custom.exercise_interaction\", \"data\": {\"interactionType\": 3, \"questionType\": 1, \"questionId\": \"3_PriceExtremes\", \"learnToolsVersion\": \"0.3.4\", \"valueTowardsCompletion\": 0.0, \"failureMessage\": \"\", \"exceptionClass\": \"\", \"trace\": \"\", \"outcomeType\": 4}}, \"*\")"
      ],
      "text/plain": [
       "<IPython.core.display.Javascript object>"
      ]
     },
     "metadata": {},
     "output_type": "display_data"
    },
    {
     "data": {
      "text/markdown": [
       "<span style=\"color:#33cc99\">Solution:</span> \n",
       "```python\n",
       "price_extremes = reviews.groupby('variety').price.agg([min, max])\n",
       "```"
      ],
      "text/plain": [
       "Solution: \n",
       "```python\n",
       "price_extremes = reviews.groupby('variety').price.agg([min, max])\n",
       "```"
      ]
     },
     "metadata": {},
     "output_type": "display_data"
    }
   ],
   "source": [
    "#q3.hint()\n",
    "q3.solution()"
   ]
  },
  {
   "cell_type": "markdown",
   "id": "b6a52228",
   "metadata": {
    "papermill": {
     "duration": 0.007331,
     "end_time": "2022-09-23T13:27:51.920505",
     "exception": false,
     "start_time": "2022-09-23T13:27:51.913174",
     "status": "completed"
    },
    "tags": []
   },
   "source": [
    "## 4.\n",
    "What are the most expensive wine varieties? Create a variable `sorted_varieties` containing a copy of the dataframe from the previous question where varieties are sorted in descending order based on minimum price, then on maximum price (to break ties)."
   ]
  },
  {
   "cell_type": "code",
   "execution_count": 8,
   "id": "535605b9",
   "metadata": {
    "execution": {
     "iopub.execute_input": "2022-09-23T13:27:51.937329Z",
     "iopub.status.busy": "2022-09-23T13:27:51.936932Z",
     "iopub.status.idle": "2022-09-23T13:27:51.949022Z",
     "shell.execute_reply": "2022-09-23T13:27:51.947914Z"
    },
    "papermill": {
     "duration": 0.023497,
     "end_time": "2022-09-23T13:27:51.951512",
     "exception": false,
     "start_time": "2022-09-23T13:27:51.928015",
     "status": "completed"
    },
    "tags": []
   },
   "outputs": [
    {
     "data": {
      "application/javascript": [
       "parent.postMessage({\"jupyterEvent\": \"custom.exercise_interaction\", \"data\": {\"outcomeType\": 1, \"valueTowardsCompletion\": 0.16666666666666666, \"interactionType\": 1, \"questionType\": 1, \"questionId\": \"4_SortedVarieties\", \"learnToolsVersion\": \"0.3.4\", \"failureMessage\": \"\", \"exceptionClass\": \"\", \"trace\": \"\"}}, \"*\")"
      ],
      "text/plain": [
       "<IPython.core.display.Javascript object>"
      ]
     },
     "metadata": {},
     "output_type": "display_data"
    },
    {
     "data": {
      "text/markdown": [
       "<span style=\"color:#33cc33\">Correct</span>"
      ],
      "text/plain": [
       "Correct"
      ]
     },
     "metadata": {},
     "output_type": "display_data"
    }
   ],
   "source": [
    "sorted_varieties = price_extremes.sort_values(by=['min', 'max'], ascending=False)\n",
    "\n",
    "# Check your answer\n",
    "q4.check()"
   ]
  },
  {
   "cell_type": "code",
   "execution_count": 9,
   "id": "ccdc09f6",
   "metadata": {
    "execution": {
     "iopub.execute_input": "2022-09-23T13:27:51.968265Z",
     "iopub.status.busy": "2022-09-23T13:27:51.967553Z",
     "iopub.status.idle": "2022-09-23T13:27:51.976220Z",
     "shell.execute_reply": "2022-09-23T13:27:51.975053Z"
    },
    "papermill": {
     "duration": 0.019404,
     "end_time": "2022-09-23T13:27:51.978303",
     "exception": false,
     "start_time": "2022-09-23T13:27:51.958899",
     "status": "completed"
    },
    "tags": []
   },
   "outputs": [
    {
     "data": {
      "application/javascript": [
       "parent.postMessage({\"jupyterEvent\": \"custom.exercise_interaction\", \"data\": {\"interactionType\": 3, \"questionType\": 1, \"questionId\": \"4_SortedVarieties\", \"learnToolsVersion\": \"0.3.4\", \"valueTowardsCompletion\": 0.0, \"failureMessage\": \"\", \"exceptionClass\": \"\", \"trace\": \"\", \"outcomeType\": 4}}, \"*\")"
      ],
      "text/plain": [
       "<IPython.core.display.Javascript object>"
      ]
     },
     "metadata": {},
     "output_type": "display_data"
    },
    {
     "data": {
      "text/markdown": [
       "<span style=\"color:#33cc99\">Solution:</span> \n",
       "```python\n",
       "sorted_varieties = price_extremes.sort_values(by=['min', 'max'], ascending=False)\n",
       "```"
      ],
      "text/plain": [
       "Solution: \n",
       "```python\n",
       "sorted_varieties = price_extremes.sort_values(by=['min', 'max'], ascending=False)\n",
       "```"
      ]
     },
     "metadata": {},
     "output_type": "display_data"
    }
   ],
   "source": [
    "#q4.hint()\n",
    "q4.solution()"
   ]
  },
  {
   "cell_type": "markdown",
   "id": "37482ed9",
   "metadata": {
    "papermill": {
     "duration": 0.010915,
     "end_time": "2022-09-23T13:27:51.997598",
     "exception": false,
     "start_time": "2022-09-23T13:27:51.986683",
     "status": "completed"
    },
    "tags": []
   },
   "source": [
    "## 5.\n",
    "Create a `Series` whose index is reviewers and whose values is the average review score given out by that reviewer. Hint: you will need the `taster_name` and `points` columns."
   ]
  },
  {
   "cell_type": "code",
   "execution_count": 10,
   "id": "a6e41df8",
   "metadata": {
    "execution": {
     "iopub.execute_input": "2022-09-23T13:27:52.016436Z",
     "iopub.status.busy": "2022-09-23T13:27:52.016026Z",
     "iopub.status.idle": "2022-09-23T13:27:52.045604Z",
     "shell.execute_reply": "2022-09-23T13:27:52.044129Z"
    },
    "papermill": {
     "duration": 0.045204,
     "end_time": "2022-09-23T13:27:52.051041",
     "exception": false,
     "start_time": "2022-09-23T13:27:52.005837",
     "status": "completed"
    },
    "tags": []
   },
   "outputs": [
    {
     "data": {
      "application/javascript": [
       "parent.postMessage({\"jupyterEvent\": \"custom.exercise_interaction\", \"data\": {\"outcomeType\": 1, \"valueTowardsCompletion\": 0.16666666666666666, \"interactionType\": 1, \"questionType\": 1, \"questionId\": \"5_ReviewerMeanRatings\", \"learnToolsVersion\": \"0.3.4\", \"failureMessage\": \"\", \"exceptionClass\": \"\", \"trace\": \"\"}}, \"*\")"
      ],
      "text/plain": [
       "<IPython.core.display.Javascript object>"
      ]
     },
     "metadata": {},
     "output_type": "display_data"
    },
    {
     "data": {
      "text/markdown": [
       "<span style=\"color:#33cc33\">Correct</span>"
      ],
      "text/plain": [
       "Correct"
      ]
     },
     "metadata": {},
     "output_type": "display_data"
    }
   ],
   "source": [
    "reviewer_mean_ratings = reviews.groupby('taster_name').points.mean()\n",
    "\n",
    "# Check your answer\n",
    "q5.check()"
   ]
  },
  {
   "cell_type": "code",
   "execution_count": 11,
   "id": "bdf00f81",
   "metadata": {
    "execution": {
     "iopub.execute_input": "2022-09-23T13:27:52.074063Z",
     "iopub.status.busy": "2022-09-23T13:27:52.073146Z",
     "iopub.status.idle": "2022-09-23T13:27:52.087006Z",
     "shell.execute_reply": "2022-09-23T13:27:52.085834Z"
    },
    "papermill": {
     "duration": 0.028588,
     "end_time": "2022-09-23T13:27:52.089435",
     "exception": false,
     "start_time": "2022-09-23T13:27:52.060847",
     "status": "completed"
    },
    "tags": []
   },
   "outputs": [
    {
     "data": {
      "application/javascript": [
       "parent.postMessage({\"jupyterEvent\": \"custom.exercise_interaction\", \"data\": {\"interactionType\": 3, \"questionType\": 1, \"questionId\": \"5_ReviewerMeanRatings\", \"learnToolsVersion\": \"0.3.4\", \"valueTowardsCompletion\": 0.0, \"failureMessage\": \"\", \"exceptionClass\": \"\", \"trace\": \"\", \"outcomeType\": 4}}, \"*\")"
      ],
      "text/plain": [
       "<IPython.core.display.Javascript object>"
      ]
     },
     "metadata": {},
     "output_type": "display_data"
    },
    {
     "data": {
      "text/markdown": [
       "<span style=\"color:#33cc99\">Solution:</span> \n",
       "```python\n",
       "reviewer_mean_ratings = reviews.groupby('taster_name').points.mean()\n",
       "```"
      ],
      "text/plain": [
       "Solution: \n",
       "```python\n",
       "reviewer_mean_ratings = reviews.groupby('taster_name').points.mean()\n",
       "```"
      ]
     },
     "metadata": {},
     "output_type": "display_data"
    }
   ],
   "source": [
    "#q5.hint()\n",
    "q5.solution()"
   ]
  },
  {
   "cell_type": "markdown",
   "id": "d096c8fc",
   "metadata": {
    "papermill": {
     "duration": 0.008628,
     "end_time": "2022-09-23T13:27:52.106944",
     "exception": false,
     "start_time": "2022-09-23T13:27:52.098316",
     "status": "completed"
    },
    "tags": []
   },
   "source": [
    "Are there significant differences in the average scores assigned by the various reviewers? Run the cell below to use the `describe()` method to see a summary of the range of values."
   ]
  },
  {
   "cell_type": "code",
   "execution_count": 12,
   "id": "c3045720",
   "metadata": {
    "execution": {
     "iopub.execute_input": "2022-09-23T13:27:52.127132Z",
     "iopub.status.busy": "2022-09-23T13:27:52.125900Z",
     "iopub.status.idle": "2022-09-23T13:27:52.139811Z",
     "shell.execute_reply": "2022-09-23T13:27:52.138665Z"
    },
    "papermill": {
     "duration": 0.026602,
     "end_time": "2022-09-23T13:27:52.142291",
     "exception": false,
     "start_time": "2022-09-23T13:27:52.115689",
     "status": "completed"
    },
    "tags": []
   },
   "outputs": [
    {
     "data": {
      "text/plain": [
       "count    19.000000\n",
       "mean     88.233026\n",
       "std       1.243610\n",
       "min      85.855422\n",
       "25%      87.323501\n",
       "50%      88.536235\n",
       "75%      88.975256\n",
       "max      90.562551\n",
       "Name: points, dtype: float64"
      ]
     },
     "execution_count": 12,
     "metadata": {},
     "output_type": "execute_result"
    }
   ],
   "source": [
    "reviewer_mean_ratings.describe()"
   ]
  },
  {
   "cell_type": "markdown",
   "id": "efaad366",
   "metadata": {
    "papermill": {
     "duration": 0.00846,
     "end_time": "2022-09-23T13:27:52.159079",
     "exception": false,
     "start_time": "2022-09-23T13:27:52.150619",
     "status": "completed"
    },
    "tags": []
   },
   "source": [
    "## 6.\n",
    "What combination of countries and varieties are most common? Create a `Series` whose index is a `MultiIndex`of `{country, variety}` pairs. For example, a pinot noir produced in the US should map to `{\"US\", \"Pinot Noir\"}`. Sort the values in the `Series` in descending order based on wine count."
   ]
  },
  {
   "cell_type": "code",
   "execution_count": 13,
   "id": "a5cd564c",
   "metadata": {
    "execution": {
     "iopub.execute_input": "2022-09-23T13:27:52.178554Z",
     "iopub.status.busy": "2022-09-23T13:27:52.177411Z",
     "iopub.status.idle": "2022-09-23T13:27:52.211447Z",
     "shell.execute_reply": "2022-09-23T13:27:52.210392Z"
    },
    "papermill": {
     "duration": 0.046039,
     "end_time": "2022-09-23T13:27:52.213649",
     "exception": false,
     "start_time": "2022-09-23T13:27:52.167610",
     "status": "completed"
    },
    "tags": []
   },
   "outputs": [
    {
     "data": {
      "application/javascript": [
       "parent.postMessage({\"jupyterEvent\": \"custom.exercise_interaction\", \"data\": {\"outcomeType\": 1, \"valueTowardsCompletion\": 0.16666666666666666, \"interactionType\": 1, \"questionType\": 1, \"questionId\": \"6_GroupbyCountryVariety\", \"learnToolsVersion\": \"0.3.4\", \"failureMessage\": \"\", \"exceptionClass\": \"\", \"trace\": \"\"}}, \"*\")"
      ],
      "text/plain": [
       "<IPython.core.display.Javascript object>"
      ]
     },
     "metadata": {},
     "output_type": "display_data"
    },
    {
     "data": {
      "text/markdown": [
       "<span style=\"color:#33cc33\">Correct</span>"
      ],
      "text/plain": [
       "Correct"
      ]
     },
     "metadata": {},
     "output_type": "display_data"
    }
   ],
   "source": [
    "country_variety_counts = reviews.groupby(['country', 'variety']).size().sort_values(ascending=False)\n",
    "\n",
    "# Check your answer\n",
    "q6.check()"
   ]
  },
  {
   "cell_type": "code",
   "execution_count": 14,
   "id": "e00315fc",
   "metadata": {
    "execution": {
     "iopub.execute_input": "2022-09-23T13:27:52.232435Z",
     "iopub.status.busy": "2022-09-23T13:27:52.232029Z",
     "iopub.status.idle": "2022-09-23T13:27:52.240508Z",
     "shell.execute_reply": "2022-09-23T13:27:52.239498Z"
    },
    "papermill": {
     "duration": 0.020295,
     "end_time": "2022-09-23T13:27:52.242616",
     "exception": false,
     "start_time": "2022-09-23T13:27:52.222321",
     "status": "completed"
    },
    "tags": []
   },
   "outputs": [
    {
     "data": {
      "application/javascript": [
       "parent.postMessage({\"jupyterEvent\": \"custom.exercise_interaction\", \"data\": {\"interactionType\": 3, \"questionType\": 1, \"questionId\": \"6_GroupbyCountryVariety\", \"learnToolsVersion\": \"0.3.4\", \"valueTowardsCompletion\": 0.0, \"failureMessage\": \"\", \"exceptionClass\": \"\", \"trace\": \"\", \"outcomeType\": 4}}, \"*\")"
      ],
      "text/plain": [
       "<IPython.core.display.Javascript object>"
      ]
     },
     "metadata": {},
     "output_type": "display_data"
    },
    {
     "data": {
      "text/markdown": [
       "<span style=\"color:#33cc99\">Solution:</span> \n",
       "```python\n",
       "country_variety_counts = reviews.groupby(['country', 'variety']).size().sort_values(ascending=False)\n",
       "```"
      ],
      "text/plain": [
       "Solution: \n",
       "```python\n",
       "country_variety_counts = reviews.groupby(['country', 'variety']).size().sort_values(ascending=False)\n",
       "```"
      ]
     },
     "metadata": {},
     "output_type": "display_data"
    }
   ],
   "source": [
    "#q6.hint()\n",
    "q6.solution()"
   ]
  },
  {
   "cell_type": "markdown",
   "id": "6df8765b",
   "metadata": {
    "papermill": {
     "duration": 0.008618,
     "end_time": "2022-09-23T13:27:52.259920",
     "exception": false,
     "start_time": "2022-09-23T13:27:52.251302",
     "status": "completed"
    },
    "tags": []
   },
   "source": [
    "# Keep going\n",
    "\n",
    "Move on to the [**data types and missing data**](https://www.kaggle.com/residentmario/data-types-and-missing-values)."
   ]
  },
  {
   "cell_type": "markdown",
   "id": "41b24517",
   "metadata": {
    "papermill": {
     "duration": 0.008198,
     "end_time": "2022-09-23T13:27:52.276621",
     "exception": false,
     "start_time": "2022-09-23T13:27:52.268423",
     "status": "completed"
    },
    "tags": []
   },
   "source": [
    "---\n",
    "\n",
    "\n",
    "\n",
    "\n",
    "*Have questions or comments? Visit the [course discussion forum](https://www.kaggle.com/learn/pandas/discussion) to chat with other learners.*"
   ]
  }
 ],
 "metadata": {
  "kernelspec": {
   "display_name": "Python 3",
   "language": "python",
   "name": "python3"
  },
  "language_info": {
   "codemirror_mode": {
    "name": "ipython",
    "version": 3
   },
   "file_extension": ".py",
   "mimetype": "text/x-python",
   "name": "python",
   "nbconvert_exporter": "python",
   "pygments_lexer": "ipython3",
   "version": "3.7.12"
  },
  "papermill": {
   "default_parameters": {},
   "duration": 13.304433,
   "end_time": "2022-09-23T13:27:53.007905",
   "environment_variables": {},
   "exception": null,
   "input_path": "__notebook__.ipynb",
   "output_path": "__notebook__.ipynb",
   "parameters": {},
   "start_time": "2022-09-23T13:27:39.703472",
   "version": "2.3.4"
  }
 },
 "nbformat": 4,
 "nbformat_minor": 5
}
