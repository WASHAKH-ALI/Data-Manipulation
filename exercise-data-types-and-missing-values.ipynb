{
 "cells": [
  {
   "cell_type": "markdown",
   "id": "6576055f",
   "metadata": {
    "papermill": {
     "duration": 0.005719,
     "end_time": "2022-09-23T13:30:29.215410",
     "exception": false,
     "start_time": "2022-09-23T13:30:29.209691",
     "status": "completed"
    },
    "tags": []
   },
   "source": [
    "**This notebook is an exercise in the [Pandas](https://www.kaggle.com/learn/pandas) course.  You can reference the tutorial at [this link](https://www.kaggle.com/residentmario/data-types-and-missing-values).**\n",
    "\n",
    "---\n"
   ]
  },
  {
   "cell_type": "markdown",
   "id": "cb40055a",
   "metadata": {
    "papermill": {
     "duration": 0.004097,
     "end_time": "2022-09-23T13:30:29.224309",
     "exception": false,
     "start_time": "2022-09-23T13:30:29.220212",
     "status": "completed"
    },
    "tags": []
   },
   "source": [
    "# Introduction\n",
    "\n",
    "Run the following cell to load your data and some utility functions."
   ]
  },
  {
   "cell_type": "code",
   "execution_count": 1,
   "id": "63342b6d",
   "metadata": {
    "execution": {
     "iopub.execute_input": "2022-09-23T13:30:29.235969Z",
     "iopub.status.busy": "2022-09-23T13:30:29.234969Z",
     "iopub.status.idle": "2022-09-23T13:30:32.208773Z",
     "shell.execute_reply": "2022-09-23T13:30:32.206584Z"
    },
    "papermill": {
     "duration": 2.982973,
     "end_time": "2022-09-23T13:30:32.211613",
     "exception": false,
     "start_time": "2022-09-23T13:30:29.228640",
     "status": "completed"
    },
    "tags": []
   },
   "outputs": [
    {
     "name": "stdout",
     "output_type": "stream",
     "text": [
      "Setup complete.\n"
     ]
    }
   ],
   "source": [
    "import pandas as pd\n",
    "\n",
    "reviews = pd.read_csv(\"../input/wine-reviews/winemag-data-130k-v2.csv\", index_col=0)\n",
    "\n",
    "from learntools.core import binder; binder.bind(globals())\n",
    "from learntools.pandas.data_types_and_missing_data import *\n",
    "print(\"Setup complete.\")"
   ]
  },
  {
   "cell_type": "markdown",
   "id": "c044a0cb",
   "metadata": {
    "papermill": {
     "duration": 0.005844,
     "end_time": "2022-09-23T13:30:32.222078",
     "exception": false,
     "start_time": "2022-09-23T13:30:32.216234",
     "status": "completed"
    },
    "tags": []
   },
   "source": [
    "# Exercises"
   ]
  },
  {
   "cell_type": "markdown",
   "id": "7f4f1bad",
   "metadata": {
    "papermill": {
     "duration": 0.005488,
     "end_time": "2022-09-23T13:30:32.233377",
     "exception": false,
     "start_time": "2022-09-23T13:30:32.227889",
     "status": "completed"
    },
    "tags": []
   },
   "source": [
    "## 1. \n",
    "What is the data type of the `points` column in the dataset?"
   ]
  },
  {
   "cell_type": "code",
   "execution_count": 2,
   "id": "e67d5c06",
   "metadata": {
    "execution": {
     "iopub.execute_input": "2022-09-23T13:30:32.244980Z",
     "iopub.status.busy": "2022-09-23T13:30:32.244193Z",
     "iopub.status.idle": "2022-09-23T13:30:32.256202Z",
     "shell.execute_reply": "2022-09-23T13:30:32.255033Z"
    },
    "papermill": {
     "duration": 0.021317,
     "end_time": "2022-09-23T13:30:32.259285",
     "exception": false,
     "start_time": "2022-09-23T13:30:32.237968",
     "status": "completed"
    },
    "tags": []
   },
   "outputs": [
    {
     "data": {
      "application/javascript": [
       "parent.postMessage({\"jupyterEvent\": \"custom.exercise_interaction\", \"data\": {\"outcomeType\": 1, \"valueTowardsCompletion\": 0.25, \"interactionType\": 1, \"questionType\": 1, \"questionId\": \"1_PointsDtype\", \"learnToolsVersion\": \"0.3.4\", \"failureMessage\": \"\", \"exceptionClass\": \"\", \"trace\": \"\"}}, \"*\")"
      ],
      "text/plain": [
       "<IPython.core.display.Javascript object>"
      ]
     },
     "metadata": {},
     "output_type": "display_data"
    },
    {
     "data": {
      "text/markdown": [
       "<span style=\"color:#33cc33\">Correct</span>"
      ],
      "text/plain": [
       "Correct"
      ]
     },
     "metadata": {},
     "output_type": "display_data"
    }
   ],
   "source": [
    "# Your code here\n",
    "dtype = reviews.points.dtype\n",
    "# Check your answer\n",
    "q1.check()"
   ]
  },
  {
   "cell_type": "code",
   "execution_count": 3,
   "id": "c47b9b1a",
   "metadata": {
    "execution": {
     "iopub.execute_input": "2022-09-23T13:30:32.279759Z",
     "iopub.status.busy": "2022-09-23T13:30:32.278647Z",
     "iopub.status.idle": "2022-09-23T13:30:32.290695Z",
     "shell.execute_reply": "2022-09-23T13:30:32.289457Z"
    },
    "papermill": {
     "duration": 0.026637,
     "end_time": "2022-09-23T13:30:32.293490",
     "exception": false,
     "start_time": "2022-09-23T13:30:32.266853",
     "status": "completed"
    },
    "tags": []
   },
   "outputs": [
    {
     "data": {
      "application/javascript": [
       "parent.postMessage({\"jupyterEvent\": \"custom.exercise_interaction\", \"data\": {\"interactionType\": 3, \"questionType\": 1, \"questionId\": \"1_PointsDtype\", \"learnToolsVersion\": \"0.3.4\", \"valueTowardsCompletion\": 0.0, \"failureMessage\": \"\", \"exceptionClass\": \"\", \"trace\": \"\", \"outcomeType\": 4}}, \"*\")"
      ],
      "text/plain": [
       "<IPython.core.display.Javascript object>"
      ]
     },
     "metadata": {},
     "output_type": "display_data"
    },
    {
     "data": {
      "text/markdown": [
       "<span style=\"color:#33cc99\">Solution:</span> \n",
       "```python\n",
       "dtype = reviews.points.dtype\n",
       "```"
      ],
      "text/plain": [
       "Solution: \n",
       "```python\n",
       "dtype = reviews.points.dtype\n",
       "```"
      ]
     },
     "metadata": {},
     "output_type": "display_data"
    }
   ],
   "source": [
    "#q1.hint()\n",
    "q1.solution()"
   ]
  },
  {
   "cell_type": "markdown",
   "id": "15e80173",
   "metadata": {
    "papermill": {
     "duration": 0.004894,
     "end_time": "2022-09-23T13:30:32.304824",
     "exception": false,
     "start_time": "2022-09-23T13:30:32.299930",
     "status": "completed"
    },
    "tags": []
   },
   "source": [
    "## 2. \n",
    "Create a Series from entries in the `points` column, but convert the entries to strings. Hint: strings are `str` in native Python."
   ]
  },
  {
   "cell_type": "code",
   "execution_count": 4,
   "id": "4ead1f41",
   "metadata": {
    "execution": {
     "iopub.execute_input": "2022-09-23T13:30:32.318261Z",
     "iopub.status.busy": "2022-09-23T13:30:32.317692Z",
     "iopub.status.idle": "2022-09-23T13:30:32.406230Z",
     "shell.execute_reply": "2022-09-23T13:30:32.405028Z"
    },
    "papermill": {
     "duration": 0.098709,
     "end_time": "2022-09-23T13:30:32.408623",
     "exception": false,
     "start_time": "2022-09-23T13:30:32.309914",
     "status": "completed"
    },
    "tags": []
   },
   "outputs": [
    {
     "data": {
      "application/javascript": [
       "parent.postMessage({\"jupyterEvent\": \"custom.exercise_interaction\", \"data\": {\"outcomeType\": 1, \"valueTowardsCompletion\": 0.25, \"interactionType\": 1, \"questionType\": 1, \"questionId\": \"2_StrPoints\", \"learnToolsVersion\": \"0.3.4\", \"failureMessage\": \"\", \"exceptionClass\": \"\", \"trace\": \"\"}}, \"*\")"
      ],
      "text/plain": [
       "<IPython.core.display.Javascript object>"
      ]
     },
     "metadata": {},
     "output_type": "display_data"
    },
    {
     "data": {
      "text/markdown": [
       "<span style=\"color:#33cc33\">Correct</span>"
      ],
      "text/plain": [
       "Correct"
      ]
     },
     "metadata": {},
     "output_type": "display_data"
    }
   ],
   "source": [
    "point_strings = reviews.points.astype(str)\n",
    "# Check your answer\n",
    "q2.check()"
   ]
  },
  {
   "cell_type": "code",
   "execution_count": 5,
   "id": "c2153e0c",
   "metadata": {
    "execution": {
     "iopub.execute_input": "2022-09-23T13:30:32.420759Z",
     "iopub.status.busy": "2022-09-23T13:30:32.420342Z",
     "iopub.status.idle": "2022-09-23T13:30:32.429900Z",
     "shell.execute_reply": "2022-09-23T13:30:32.428698Z"
    },
    "papermill": {
     "duration": 0.018486,
     "end_time": "2022-09-23T13:30:32.432386",
     "exception": false,
     "start_time": "2022-09-23T13:30:32.413900",
     "status": "completed"
    },
    "tags": []
   },
   "outputs": [
    {
     "data": {
      "application/javascript": [
       "parent.postMessage({\"jupyterEvent\": \"custom.exercise_interaction\", \"data\": {\"interactionType\": 3, \"questionType\": 1, \"questionId\": \"2_StrPoints\", \"learnToolsVersion\": \"0.3.4\", \"valueTowardsCompletion\": 0.0, \"failureMessage\": \"\", \"exceptionClass\": \"\", \"trace\": \"\", \"outcomeType\": 4}}, \"*\")"
      ],
      "text/plain": [
       "<IPython.core.display.Javascript object>"
      ]
     },
     "metadata": {},
     "output_type": "display_data"
    },
    {
     "data": {
      "text/markdown": [
       "<span style=\"color:#33cc99\">Solution:</span> \n",
       "```python\n",
       "point_strings = reviews.points.astype(str)\n",
       "```"
      ],
      "text/plain": [
       "Solution: \n",
       "```python\n",
       "point_strings = reviews.points.astype(str)\n",
       "```"
      ]
     },
     "metadata": {},
     "output_type": "display_data"
    }
   ],
   "source": [
    "#q2.hint()\n",
    "q2.solution()"
   ]
  },
  {
   "cell_type": "markdown",
   "id": "9a218111",
   "metadata": {
    "papermill": {
     "duration": 0.005087,
     "end_time": "2022-09-23T13:30:32.443015",
     "exception": false,
     "start_time": "2022-09-23T13:30:32.437928",
     "status": "completed"
    },
    "tags": []
   },
   "source": [
    "## 3.\n",
    "Sometimes the price column is null. How many reviews in the dataset are missing a price?"
   ]
  },
  {
   "cell_type": "code",
   "execution_count": 6,
   "id": "372d2ad4",
   "metadata": {
    "execution": {
     "iopub.execute_input": "2022-09-23T13:30:32.455403Z",
     "iopub.status.busy": "2022-09-23T13:30:32.454991Z",
     "iopub.status.idle": "2022-09-23T13:30:32.463819Z",
     "shell.execute_reply": "2022-09-23T13:30:32.462951Z"
    },
    "papermill": {
     "duration": 0.017652,
     "end_time": "2022-09-23T13:30:32.465981",
     "exception": false,
     "start_time": "2022-09-23T13:30:32.448329",
     "status": "completed"
    },
    "tags": []
   },
   "outputs": [
    {
     "data": {
      "application/javascript": [
       "parent.postMessage({\"jupyterEvent\": \"custom.exercise_interaction\", \"data\": {\"outcomeType\": 1, \"valueTowardsCompletion\": 0.25, \"interactionType\": 1, \"questionType\": 1, \"questionId\": \"3_CountMissingPrices\", \"learnToolsVersion\": \"0.3.4\", \"failureMessage\": \"\", \"exceptionClass\": \"\", \"trace\": \"\"}}, \"*\")"
      ],
      "text/plain": [
       "<IPython.core.display.Javascript object>"
      ]
     },
     "metadata": {},
     "output_type": "display_data"
    },
    {
     "data": {
      "text/markdown": [
       "<span style=\"color:#33cc33\">Correct</span>"
      ],
      "text/plain": [
       "Correct"
      ]
     },
     "metadata": {},
     "output_type": "display_data"
    }
   ],
   "source": [
    "n_missing_prices = pd.isnull(reviews.price).sum()\n",
    "\n",
    "# Check your answer\n",
    "q3.check()"
   ]
  },
  {
   "cell_type": "code",
   "execution_count": 7,
   "id": "69c79484",
   "metadata": {
    "execution": {
     "iopub.execute_input": "2022-09-23T13:30:32.478704Z",
     "iopub.status.busy": "2022-09-23T13:30:32.478305Z",
     "iopub.status.idle": "2022-09-23T13:30:32.487696Z",
     "shell.execute_reply": "2022-09-23T13:30:32.486505Z"
    },
    "papermill": {
     "duration": 0.01853,
     "end_time": "2022-09-23T13:30:32.490076",
     "exception": false,
     "start_time": "2022-09-23T13:30:32.471546",
     "status": "completed"
    },
    "tags": []
   },
   "outputs": [
    {
     "data": {
      "application/javascript": [
       "parent.postMessage({\"jupyterEvent\": \"custom.exercise_interaction\", \"data\": {\"interactionType\": 3, \"questionType\": 1, \"questionId\": \"3_CountMissingPrices\", \"learnToolsVersion\": \"0.3.4\", \"valueTowardsCompletion\": 0.0, \"failureMessage\": \"\", \"exceptionClass\": \"\", \"trace\": \"\", \"outcomeType\": 4}}, \"*\")"
      ],
      "text/plain": [
       "<IPython.core.display.Javascript object>"
      ]
     },
     "metadata": {},
     "output_type": "display_data"
    },
    {
     "data": {
      "text/markdown": [
       "<span style=\"color:#33cc99\">Solution:</span> \n",
       "```python\n",
       "missing_price_reviews = reviews[reviews.price.isnull()]\n",
       "n_missing_prices = len(missing_price_reviews)\n",
       "# Cute alternative solution: if we sum a boolean series, True is treated as 1 and False as 0\n",
       "n_missing_prices = reviews.price.isnull().sum()\n",
       "# or equivalently:\n",
       "n_missing_prices = pd.isnull(reviews.price).sum()\n",
       "\n",
       "```"
      ],
      "text/plain": [
       "Solution: \n",
       "```python\n",
       "missing_price_reviews = reviews[reviews.price.isnull()]\n",
       "n_missing_prices = len(missing_price_reviews)\n",
       "# Cute alternative solution: if we sum a boolean series, True is treated as 1 and False as 0\n",
       "n_missing_prices = reviews.price.isnull().sum()\n",
       "# or equivalently:\n",
       "n_missing_prices = pd.isnull(reviews.price).sum()\n",
       "\n",
       "```"
      ]
     },
     "metadata": {},
     "output_type": "display_data"
    }
   ],
   "source": [
    "#q3.hint()\n",
    "q3.solution()"
   ]
  },
  {
   "cell_type": "markdown",
   "id": "7e8fe2bf",
   "metadata": {
    "papermill": {
     "duration": 0.006584,
     "end_time": "2022-09-23T13:30:32.502646",
     "exception": false,
     "start_time": "2022-09-23T13:30:32.496062",
     "status": "completed"
    },
    "tags": []
   },
   "source": [
    "## 4.\n",
    "What are the most common wine-producing regions? Create a Series counting the number of times each value occurs in the `region_1` field. This field is often missing data, so replace missing values with `Unknown`. Sort in descending order.  Your output should look something like this:\n",
    "\n",
    "```\n",
    "Unknown                    21247\n",
    "Napa Valley                 4480\n",
    "                           ...  \n",
    "Bardolino Superiore            1\n",
    "Primitivo del Tarantino        1\n",
    "Name: region_1, Length: 1230, dtype: int64\n",
    "```"
   ]
  },
  {
   "cell_type": "code",
   "execution_count": 8,
   "id": "62c89bec",
   "metadata": {
    "execution": {
     "iopub.execute_input": "2022-09-23T13:30:32.516367Z",
     "iopub.status.busy": "2022-09-23T13:30:32.515658Z",
     "iopub.status.idle": "2022-09-23T13:30:32.557001Z",
     "shell.execute_reply": "2022-09-23T13:30:32.555829Z"
    },
    "papermill": {
     "duration": 0.051056,
     "end_time": "2022-09-23T13:30:32.559480",
     "exception": false,
     "start_time": "2022-09-23T13:30:32.508424",
     "status": "completed"
    },
    "tags": []
   },
   "outputs": [
    {
     "data": {
      "application/javascript": [
       "parent.postMessage({\"jupyterEvent\": \"custom.exercise_interaction\", \"data\": {\"outcomeType\": 1, \"valueTowardsCompletion\": 0.25, \"interactionType\": 1, \"questionType\": 2, \"questionId\": \"4_ReviewsPerRegion\", \"learnToolsVersion\": \"0.3.4\", \"failureMessage\": \"\", \"exceptionClass\": \"\", \"trace\": \"\"}}, \"*\")"
      ],
      "text/plain": [
       "<IPython.core.display.Javascript object>"
      ]
     },
     "metadata": {},
     "output_type": "display_data"
    },
    {
     "data": {
      "text/markdown": [
       "<span style=\"color:#33cc33\">Correct</span>"
      ],
      "text/plain": [
       "Correct"
      ]
     },
     "metadata": {},
     "output_type": "display_data"
    }
   ],
   "source": [
    "reviews_per_region = reviews.region_1.fillna('Unknown').value_counts().sort_values(ascending=False)\n",
    "\n",
    "# Check your answer\n",
    "q4.check()"
   ]
  },
  {
   "cell_type": "code",
   "execution_count": 9,
   "id": "aab53d90",
   "metadata": {
    "execution": {
     "iopub.execute_input": "2022-09-23T13:30:32.573646Z",
     "iopub.status.busy": "2022-09-23T13:30:32.573248Z",
     "iopub.status.idle": "2022-09-23T13:30:32.581962Z",
     "shell.execute_reply": "2022-09-23T13:30:32.580807Z"
    },
    "papermill": {
     "duration": 0.018587,
     "end_time": "2022-09-23T13:30:32.584237",
     "exception": false,
     "start_time": "2022-09-23T13:30:32.565650",
     "status": "completed"
    },
    "tags": []
   },
   "outputs": [
    {
     "data": {
      "application/javascript": [
       "parent.postMessage({\"jupyterEvent\": \"custom.exercise_interaction\", \"data\": {\"interactionType\": 3, \"questionType\": 2, \"questionId\": \"4_ReviewsPerRegion\", \"learnToolsVersion\": \"0.3.4\", \"valueTowardsCompletion\": 0.0, \"failureMessage\": \"\", \"exceptionClass\": \"\", \"trace\": \"\", \"outcomeType\": 4}}, \"*\")"
      ],
      "text/plain": [
       "<IPython.core.display.Javascript object>"
      ]
     },
     "metadata": {},
     "output_type": "display_data"
    },
    {
     "data": {
      "text/markdown": [
       "<span style=\"color:#33cc99\">Solution:</span> \n",
       "```python\n",
       "reviews_per_region = reviews.region_1.fillna('Unknown').value_counts().sort_values(ascending=False)\n",
       "```"
      ],
      "text/plain": [
       "Solution: \n",
       "```python\n",
       "reviews_per_region = reviews.region_1.fillna('Unknown').value_counts().sort_values(ascending=False)\n",
       "```"
      ]
     },
     "metadata": {},
     "output_type": "display_data"
    }
   ],
   "source": [
    "#q4.hint()\n",
    "q4.solution()"
   ]
  },
  {
   "cell_type": "markdown",
   "id": "cd7f25e9",
   "metadata": {
    "papermill": {
     "duration": 0.006109,
     "end_time": "2022-09-23T13:30:32.596818",
     "exception": false,
     "start_time": "2022-09-23T13:30:32.590709",
     "status": "completed"
    },
    "tags": []
   },
   "source": [
    "# Keep going\n",
    "\n",
    "Move on to **[renaming and combining](https://www.kaggle.com/residentmario/renaming-and-combining)**."
   ]
  },
  {
   "cell_type": "markdown",
   "id": "7dcd52fc",
   "metadata": {
    "papermill": {
     "duration": 0.006021,
     "end_time": "2022-09-23T13:30:32.609225",
     "exception": false,
     "start_time": "2022-09-23T13:30:32.603204",
     "status": "completed"
    },
    "tags": []
   },
   "source": [
    "---\n",
    "\n",
    "\n",
    "\n",
    "\n",
    "*Have questions or comments? Visit the [course discussion forum](https://www.kaggle.com/learn/pandas/discussion) to chat with other learners.*"
   ]
  }
 ],
 "metadata": {
  "kernelspec": {
   "display_name": "Python 3",
   "language": "python",
   "name": "python3"
  },
  "language_info": {
   "codemirror_mode": {
    "name": "ipython",
    "version": 3
   },
   "file_extension": ".py",
   "mimetype": "text/x-python",
   "name": "python",
   "nbconvert_exporter": "python",
   "pygments_lexer": "ipython3",
   "version": "3.7.12"
  },
  "papermill": {
   "default_parameters": {},
   "duration": 13.222247,
   "end_time": "2022-09-23T13:30:33.338406",
   "environment_variables": {},
   "exception": null,
   "input_path": "__notebook__.ipynb",
   "output_path": "__notebook__.ipynb",
   "parameters": {},
   "start_time": "2022-09-23T13:30:20.116159",
   "version": "2.3.4"
  }
 },
 "nbformat": 4,
 "nbformat_minor": 5
}
